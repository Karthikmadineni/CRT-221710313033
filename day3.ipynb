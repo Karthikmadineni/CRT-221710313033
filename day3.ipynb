{
 "cells": [
  {
   "cell_type": "code",
   "execution_count": 1,
   "metadata": {},
   "outputs": [
    {
     "name": "stdout",
     "output_type": "stream",
     "text": [
      "1\n",
      "5\n",
      "[1, 2, 3]\n",
      "[1, 3, 5]\n",
      "[1, 4]\n"
     ]
    }
   ],
   "source": [
    "l1=[1,2,3,4,5]\n",
    "print(l1[0])\n",
    "print(l1[-1])\n",
    "print(l1[0:3])\n",
    "print(l1[::2])\n",
    "print(l1[::3])"
   ]
  },
  {
   "cell_type": "code",
   "execution_count": 3,
   "metadata": {},
   "outputs": [
    {
     "name": "stdout",
     "output_type": "stream",
     "text": [
      "[1, 3, 5]\n"
     ]
    }
   ],
   "source": [
    "print(l1[0:5:2])"
   ]
  },
  {
   "cell_type": "code",
   "execution_count": 17,
   "metadata": {},
   "outputs": [
    {
     "name": "stdout",
     "output_type": "stream",
     "text": [
      "['hello', 1, 'is', 25] \n",
      "\n",
      "After replacing: \n",
      " ['hello', 'this', 'is', 'GITAM']\n",
      "\n",
      "'hello' deleted \n",
      " ['this', 'is', 'GITAM']\n",
      "\n",
      "l2 deleted:\n",
      "we cannot print 'l2' as it is deleted already\n",
      "check out the error below\n"
     ]
    },
    {
     "ename": "NameError",
     "evalue": "name 'l2' is not defined",
     "output_type": "error",
     "traceback": [
      "\u001b[1;31m---------------------------------------------------------------------------\u001b[0m",
      "\u001b[1;31mNameError\u001b[0m                                 Traceback (most recent call last)",
      "\u001b[1;32m<ipython-input-17-c345528933cf>\u001b[0m in \u001b[0;36m<module>\u001b[1;34m\u001b[0m\n\u001b[0;32m      8\u001b[0m \u001b[1;32mdel\u001b[0m \u001b[0ml2\u001b[0m\u001b[1;33m\u001b[0m\u001b[1;33m\u001b[0m\u001b[0m\n\u001b[0;32m      9\u001b[0m \u001b[0mprint\u001b[0m\u001b[1;33m(\u001b[0m\u001b[1;34m\"\\nl2 deleted:\\nwe cannot print 'l2' as it is deleted already\\ncheck out the error below\"\u001b[0m\u001b[1;33m)\u001b[0m\u001b[1;33m\u001b[0m\u001b[1;33m\u001b[0m\u001b[0m\n\u001b[1;32m---> 10\u001b[1;33m \u001b[0mprint\u001b[0m\u001b[1;33m(\u001b[0m\u001b[0ml2\u001b[0m\u001b[1;33m)\u001b[0m\u001b[1;33m\u001b[0m\u001b[1;33m\u001b[0m\u001b[0m\n\u001b[0m",
      "\u001b[1;31mNameError\u001b[0m: name 'l2' is not defined"
     ]
    }
   ],
   "source": [
    "l2=[\"hello\",1,\"is\",25]\n",
    "print(l2,\"\\n\")\n",
    "l2[1]=\"this\"\n",
    "l2[3]=\"GITAM\"\n",
    "print(\"After replacing:\",\"\\n\",l2)\n",
    "del l2[0]\n",
    "print(\"\\n'hello' deleted\",\"\\n\",l2)\n",
    "del l2\n",
    "print(\"\\nl2 deleted:\\nwe cannot print 'l2' as it is deleted already\\ncheck out the error below\")\n",
    "print(l2)"
   ]
  },
  {
   "cell_type": "code",
   "execution_count": 32,
   "metadata": {},
   "outputs": [
    {
     "name": "stdout",
     "output_type": "stream",
     "text": [
      "List repetition: [4, 8, 9, 1, 2, 3, 4, 8, 9, 1, 2, 3]\n",
      "True True\n",
      "printing l2 using iteration:\n",
      " [4, 8, 9, 1, 2, 3]\n",
      "4\n",
      "8\n",
      "9\n",
      "1\n",
      "2\n",
      "3\n",
      "printing l2 through indexing:\n",
      " [4, 8, 9, 1, 2, 3]\n",
      "4\n",
      "8\n",
      "9\n",
      "1\n",
      "2\n",
      "3\n"
     ]
    }
   ],
   "source": [
    "l2=[4,8,9,1,2,3]\n",
    "print(\"List repetition:\",l2*2)\n",
    "print(1 in l2,5 not in l2)\n",
    "print(\"printing l2 using iteration:\\n\",l2)\n",
    "for i in l2:\n",
    "    print(i)\n",
    "print(\"printing l2 through indexing:\\n\",l2)\n",
    "for i in range(len(l2)):\n",
    "    print(l2[i])"
   ]
  },
  {
   "cell_type": "code",
   "execution_count": 45,
   "metadata": {},
   "outputs": [
    {
     "name": "stdout",
     "output_type": "stream",
     "text": [
      "5 9 29\n",
      "[7, 8, 5, 9, 500]\n"
     ]
    }
   ],
   "source": [
    "# OPERATIONS\n",
    "l3=[7,8,5,9]\n",
    "print(min(l3),max(l3),sum(l3))\n",
    "l3.append(500)\n",
    "print(l3)"
   ]
  },
  {
   "cell_type": "code",
   "execution_count": 47,
   "metadata": {},
   "outputs": [
    {
     "name": "stdout",
     "output_type": "stream",
     "text": [
      "[7, 8, 5, 9, 500, 'appended string', 'appended string']\n"
     ]
    }
   ],
   "source": [
    "l3.append(\"appended string\")\n",
    "print(l3)\n",
    "l3.insert(4,499)"
   ]
  },
  {
   "cell_type": "code",
   "execution_count": 48,
   "metadata": {},
   "outputs": [
    {
     "name": "stdout",
     "output_type": "stream",
     "text": [
      "[7, 8, 5, 9, 499, 500, 499, 'appended string', 'appended string']\n"
     ]
    }
   ],
   "source": [
    "l3.insert(6,499)\n",
    "print(l3)"
   ]
  },
  {
   "cell_type": "code",
   "execution_count": 52,
   "metadata": {},
   "outputs": [
    {
     "name": "stdout",
     "output_type": "stream",
     "text": [
      "2\n",
      "1\n"
     ]
    }
   ],
   "source": [
    "print(l3.count(499))\n",
    "print(l3.index(8))\n"
   ]
  },
  {
   "cell_type": "code",
   "execution_count": 61,
   "metadata": {},
   "outputs": [
    {
     "name": "stdout",
     "output_type": "stream",
     "text": [
      "[0, 1, 3, 4, 7, 8, 99]\n",
      "[0, 1, 3, 4, 7, 8]\n"
     ]
    }
   ],
   "source": [
    "l4=[7,4,0,1,3,8,99]\n",
    "l4.sort()\n",
    "print(l4)\n",
    "l4.pop()\n",
    "print(l4)"
   ]
  },
  {
   "cell_type": "code",
   "execution_count": 62,
   "metadata": {},
   "outputs": [
    {
     "name": "stdout",
     "output_type": "stream",
     "text": [
      "[0, 1, 3, 4, 7, 8, 999, 9999, 99999]\n"
     ]
    }
   ],
   "source": [
    "liex=[999,9999,99999]\n",
    "l4.extend(liex)\n",
    "print(l4)"
   ]
  },
  {
   "cell_type": "code",
   "execution_count": 71,
   "metadata": {},
   "outputs": [
    {
     "data": {
      "text/plain": [
       "[8, 1, 5, 3, 9]"
      ]
     },
     "execution_count": 71,
     "metadata": {},
     "output_type": "execute_result"
    }
   ],
   "source": [
    "l5=[9,3,5,1,8]\n",
    "l5.reverse()\n",
    "l5"
   ]
  },
  {
   "cell_type": "code",
   "execution_count": 78,
   "metadata": {},
   "outputs": [
    {
     "name": "stdout",
     "output_type": "stream",
     "text": [
      "12345\n",
      "[1, 2, 3, 4, 5]\n",
      "maximun value: 5\n"
     ]
    }
   ],
   "source": [
    "l1=[int(x) for x in input()]\n",
    "print(l1)\n",
    "print('maximun value:',max(l1))"
   ]
  },
  {
   "cell_type": "code",
   "execution_count": 80,
   "metadata": {},
   "outputs": [
    {
     "name": "stdout",
     "output_type": "stream",
     "text": [
      "457896\n",
      "9\n"
     ]
    }
   ],
   "source": [
    "print(max([int(x) for x in input()]))"
   ]
  },
  {
   "cell_type": "code",
   "execution_count": null,
   "metadata": {},
   "outputs": [],
   "source": []
  }
 ],
 "metadata": {
  "kernelspec": {
   "display_name": "Python 3",
   "language": "python",
   "name": "python3"
  },
  "language_info": {
   "codemirror_mode": {
    "name": "ipython",
    "version": 3
   },
   "file_extension": ".py",
   "mimetype": "text/x-python",
   "name": "python",
   "nbconvert_exporter": "python",
   "pygments_lexer": "ipython3",
   "version": "3.7.1"
  }
 },
 "nbformat": 4,
 "nbformat_minor": 2
}
