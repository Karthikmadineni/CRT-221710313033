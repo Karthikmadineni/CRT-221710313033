{
 "cells": [
  {
   "cell_type": "markdown",
   "metadata": {},
   "source": [
    "# Python\n",
    " ## Python\n",
    "  ###    Python\n",
    "   #### Python\n",
    "   ##### Python\n",
    "   ###### Python"
   ]
  },
  {
   "cell_type": "markdown",
   "metadata": {},
   "source": [
    "# Python\n",
    "- day1\n",
    "- day2 \n",
    "     - topic1\n",
    "         - 1\n",
    "             - **Hello**\n",
    "             - *Hello*\n",
    "             - ***Hello***\n",
    "         - 2\n",
    "     - topic2"
   ]
  },
  {
   "cell_type": "code",
   "execution_count": 13,
   "metadata": {},
   "outputs": [
    {
     "name": "stdout",
     "output_type": "stream",
     "text": [
      "hello world!\n",
      "I welcome you python bro\n",
      "<class 'NoneType'>\n"
     ]
    }
   ],
   "source": [
    "print('hello world!')\n",
    "print('I welcome you python bro')\n"
   ]
  },
  {
   "cell_type": "code",
   "execution_count": 19,
   "metadata": {},
   "outputs": [
    {
     "name": "stdout",
     "output_type": "stream",
     "text": [
      "hello world! I welcome you python bro yes\n"
     ]
    }
   ],
   "source": [
    "print('hello world!',end=' ')\n",
    "print(\"I welcome you python bro\",'yes')"
   ]
  },
  {
   "cell_type": "code",
   "execution_count": 22,
   "metadata": {},
   "outputs": [
    {
     "name": "stdout",
     "output_type": "stream",
     "text": [
      "enter your name:unknown\n",
      "MyName: unknown\n"
     ]
    }
   ],
   "source": [
    "a=input(\"enter your name: \")\n",
    "print(\"MyName:\",a)"
   ]
  },
  {
   "cell_type": "code",
   "execution_count": 23,
   "metadata": {},
   "outputs": [
    {
     "data": {
      "text/plain": [
       "int"
      ]
     },
     "execution_count": 23,
     "metadata": {},
     "output_type": "execute_result"
    }
   ],
   "source": [
    "x=7\n",
    "type(x)\n"
   ]
  },
  {
   "cell_type": "code",
   "execution_count": 25,
   "metadata": {},
   "outputs": [
    {
     "name": "stdout",
     "output_type": "stream",
     "text": [
      "12\n",
      "7\n"
     ]
    }
   ],
   "source": [
    "print(x+5)\n",
    "y=5\n",
    "print(x+5-y)"
   ]
  },
  {
   "cell_type": "code",
   "execution_count": 28,
   "metadata": {},
   "outputs": [
    {
     "name": "stdout",
     "output_type": "stream",
     "text": [
      "16.8 - <class 'float'>\n"
     ]
    }
   ],
   "source": [
    "x=10.8\n",
    "y=6\n",
    "print(x+y,\"-\",type(x+y))"
   ]
  },
  {
   "cell_type": "code",
   "execution_count": 30,
   "metadata": {},
   "outputs": [
    {
     "name": "stdout",
     "output_type": "stream",
     "text": [
      "(6+6j) - <class 'complex'>\n"
     ]
    }
   ],
   "source": [
    "a=2+2j\n",
    "b=4+4j\n",
    "print(a+b,\"-\",type(a+b))"
   ]
  },
  {
   "cell_type": "code",
   "execution_count": 42,
   "metadata": {},
   "outputs": [
    {
     "name": "stdout",
     "output_type": "stream",
     "text": [
      "7 \n",
      " 7.7 -converting to complex: (7.7+0j)\n"
     ]
    }
   ],
   "source": [
    "#Type casting\n",
    "x=7.7\n",
    "y=int(x)\n",
    "print( y,\"\\n\",x,\"-converting to complex:\",complex(x))"
   ]
  },
  {
   "cell_type": "code",
   "execution_count": 61,
   "metadata": {
    "scrolled": true
   },
   "outputs": [],
   "source": [
    "b=True\n",
    "type(b)\n",
    "i=5"
   ]
  },
  {
   "cell_type": "code",
   "execution_count": 48,
   "metadata": {},
   "outputs": [
    {
     "name": "stdout",
     "output_type": "stream",
     "text": [
      "<class 'str'>\n"
     ]
    },
    {
     "data": {
      "text/plain": [
       "str"
      ]
     },
     "execution_count": 48,
     "metadata": {},
     "output_type": "execute_result"
    }
   ],
   "source": [
    "a=\"string123456789\"\n",
    "print(type(a))\n",
    "type(a)"
   ]
  },
  {
   "cell_type": "code",
   "execution_count": 68,
   "metadata": {},
   "outputs": [
    {
     "data": {
      "text/plain": [
       "int"
      ]
     },
     "execution_count": 68,
     "metadata": {},
     "output_type": "execute_result"
    }
   ],
   "source": [
    "s='99'\n",
    "type(int(s))\n"
   ]
  },
  {
   "cell_type": "code",
   "execution_count": 70,
   "metadata": {},
   "outputs": [
    {
     "data": {
      "text/plain": [
       "2"
      ]
     },
     "execution_count": 70,
     "metadata": {},
     "output_type": "execute_result"
    }
   ],
   "source": [
    "len(s)"
   ]
  },
  {
   "cell_type": "code",
   "execution_count": 80,
   "metadata": {},
   "outputs": [
    {
     "name": "stdout",
     "output_type": "stream",
     "text": [
      " 5/3- 1.6666666666666667 \n",
      " 5//3- 1\n",
      "8 2 15 125\n"
     ]
    }
   ],
   "source": [
    "a=5\n",
    "b=3\n",
    "print(\" 5/3-\",a/b,\"\\n\",\"5//3-\",a//b)        ## Arithmetic operators\n",
    "print(a+b,a-b,a*b,a**b)\n"
   ]
  },
  {
   "cell_type": "code",
   "execution_count": 88,
   "metadata": {},
   "outputs": [
    {
     "name": "stdout",
     "output_type": "stream",
     "text": [
      "False\n",
      "True\n",
      "True\n"
     ]
    }
   ],
   "source": [
    "a=9\n",
    "b=b\n",
    "c=0\n",
    "print(a==9 and b>10)                ## Logical\n",
    "print(a>8 or b==10)\n",
    "print(not c)"
   ]
  },
  {
   "cell_type": "code",
   "execution_count": 89,
   "metadata": {},
   "outputs": [
    {
     "name": "stdout",
     "output_type": "stream",
     "text": [
      "False True False False True True\n"
     ]
    }
   ],
   "source": [
    "a=8\n",
    "b=2                                         ## Relational\n",
    "print(a<b,a>b,a==b,a<=b,a>=b,a!=b)"
   ]
  },
  {
   "cell_type": "code",
   "execution_count": 96,
   "metadata": {},
   "outputs": [
    {
     "name": "stdout",
     "output_type": "stream",
     "text": [
      "True\n",
      "True\n",
      "True\n",
      "True\n",
      "True\n",
      "False\n"
     ]
    }
   ],
   "source": [
    "a=\"Membership operators\"\n",
    "print('M' in a)\n",
    "print('m' in a)                          ## Membership\n",
    "print('k' not in a)\n",
    "print('ship' in a)\n",
    "print(' o' in a)\n",
    "print(' p' in a)"
   ]
  },
  {
   "cell_type": "code",
   "execution_count": 97,
   "metadata": {},
   "outputs": [
    {
     "name": "stdout",
     "output_type": "stream",
     "text": [
      "Hello\n"
     ]
    }
   ],
   "source": [
    "a=5\n",
    "b=1\n",
    "if(a==5 and b<5):\n",
    "    print(\"Hello\")                    ## Conditional Statements\n",
    "elif(b==1):\n",
    "    print(\"Wait\")\n",
    "else:\n",
    "    print(\"Bye\")"
   ]
  },
  {
   "cell_type": "code",
   "execution_count": 102,
   "metadata": {},
   "outputs": [
    {
     "name": "stdout",
     "output_type": "stream",
     "text": [
      "5\n",
      "5 is odd bro\n"
     ]
    }
   ],
   "source": [
    "# Even or odd\n",
    "n=int(input())\n",
    "if(n%2==0):\n",
    "    print(n,\"is even bro\")\n",
    "else:\n",
    "    print(n,'is odd bro')"
   ]
  },
  {
   "cell_type": "code",
   "execution_count": 106,
   "metadata": {},
   "outputs": [
    {
     "name": "stdout",
     "output_type": "stream",
     "text": [
      "30\n",
      "yes it is\n"
     ]
    }
   ],
   "source": [
    "# Check wheather the given number is divisible by both 3 and 5 or not\n",
    "n=int(input())\n",
    "if(n%3==0 and n%5==0):\n",
    "    print(\"yes it is\")\n",
    "else:\n",
    "    print(\"no it isn't\")"
   ]
  },
  {
   "cell_type": "code",
   "execution_count": 112,
   "metadata": {},
   "outputs": [
    {
     "name": "stdout",
     "output_type": "stream",
     "text": [
      "-9\n",
      "-ve\n"
     ]
    }
   ],
   "source": [
    "# positive or negative or zero\n",
    "n=int(input())\n",
    "if(n==0):\n",
    "    print(\"0\")\n",
    "elif(n<0):\n",
    "    print(\"-ve\")\n",
    "else:\n",
    "    print(\"+ve\")"
   ]
  },
  {
   "cell_type": "code",
   "execution_count": 114,
   "metadata": {},
   "outputs": [
    {
     "name": "stdout",
     "output_type": "stream",
     "text": [
      "2020\n",
      "Leap year\n"
     ]
    }
   ],
   "source": [
    "#Leap year or not\n",
    "n=int(input())\n",
    "if(n%4==0):\n",
    "    print(\"Leap year\")\n",
    "else:\n",
    "    print(\"not\")"
   ]
  },
  {
   "cell_type": "code",
   "execution_count": 1,
   "metadata": {},
   "outputs": [
    {
     "name": "stdout",
     "output_type": "stream",
     "text": [
      "GITAM with for\n",
      "GITAM with for\n",
      "GITAM with for\n",
      "GITAM with for\n",
      "GITAM with for\n",
      "GITAM with while\n",
      "GITAM with while\n",
      "GITAM with while\n",
      "GITAM with while\n",
      "GITAM with while\n"
     ]
    }
   ],
   "source": [
    "for i in range(5):\n",
    "    print(\"GITAM with for\")\n",
    "    j=1\n",
    "while(j<=5):\n",
    "    print(\"GITAM with while\")\n",
    "    j=j+1"
   ]
  },
  {
   "cell_type": "code",
   "execution_count": 5,
   "metadata": {},
   "outputs": [
    {
     "name": "stdout",
     "output_type": "stream",
     "text": [
      "last number:7\n",
      "1\n",
      "2\n",
      "3\n",
      "4\n",
      "5\n",
      "6\n",
      "7\n"
     ]
    }
   ],
   "source": [
    "for i in range(1,int(input(\"last number:\"))+1):\n",
    "    print(i)"
   ]
  },
  {
   "cell_type": "code",
   "execution_count": null,
   "metadata": {},
   "outputs": [],
   "source": []
  }
 ],
 "metadata": {
  "kernelspec": {
   "display_name": "Python 3",
   "language": "python",
   "name": "python3"
  },
  "language_info": {
   "codemirror_mode": {
    "name": "ipython",
    "version": 3
   },
   "file_extension": ".py",
   "mimetype": "text/x-python",
   "name": "python",
   "nbconvert_exporter": "python",
   "pygments_lexer": "ipython3",
   "version": "3.7.1"
  }
 },
 "nbformat": 4,
 "nbformat_minor": 2
}
